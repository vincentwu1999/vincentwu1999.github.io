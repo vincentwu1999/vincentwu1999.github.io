{
 "cells": [
  {
   "cell_type": "markdown",
   "metadata": {
    "slideshow": {
     "slide_type": "-"
    }
   },
   "source": [
    "# PyQMC \n",
    "\n",
    "A user-friendly and flexible implementation of real-space quantum Monte Carlo for molecules and materials. \n",
    "Originally created by Will Wheeler from UIUC and Kaiyuan (Vincent) Wu from Rice University to suit the need of the ultracold-atom research project under the supervision of Prof. Kaden Hazzard.\n",
    "\n",
    "## Advantages\n",
    "- Integration with notebooks\n",
    "- Integration with PySCF\n",
    "- Flexible parallelization\n",
    "- Full access to objects that are used in the calculation\n",
    "- Easy to make flexible workflows\n",
    "- Easy to implement new algorithms and wave functions\n",
    "- Code is succinct compared to C++ and Fortran codes (7 thousand lines right now)\n",
    "- Performance is not bad for Python\n",
    "\n"
   ]
  },
  {
   "cell_type": "markdown",
   "metadata": {},
   "source": [
    "## Mean-field calculation\n",
    "\n",
    "The first step is running a mean-field calculation in PySCF to generate a trial function"
   ]
  },
  {
   "cell_type": "code",
   "execution_count": 5,
   "metadata": {},
   "outputs": [
    {
     "name": "stdout",
     "output_type": "stream",
     "text": [
      "converged SCF energy = -16.9380454509969\n"
     ]
    },
    {
     "data": {
      "text/plain": [
       "-16.938045450996857"
      ]
     },
     "execution_count": 5,
     "metadata": {},
     "output_type": "execute_result"
    }
   ],
   "source": [
    "# PySCF calculation\n",
    "from pyscf import gto, scf \n",
    "\n",
    "mol = gto.M(\n",
    "    atom=\"\"\"\n",
    "            O 0.0000000, 0.000000, 0.00000000\n",
    "            H 0.761561 , 0.478993, 0.00000000\n",
    "            H -0.761561, 0.478993, 0.00000000\"\"\",\n",
    "    basis=\"ccecp-ccpvtz\",\n",
    "    ecp={\"O\": \"ccecp\"},\n",
    ")   \n",
    "mf = scf.RHF(mol)\n",
    "mf.chkfile = \"h2o_scf.chk\"\n",
    "mf.kernel()"
   ]
  },
  {
   "cell_type": "markdown",
   "metadata": {},
   "source": [
    "## QMC\n",
    "\n",
    "Once we have the PySCF result, we can use it to run QMC, which typically consists of \n",
    "1. optimizing wave function parameters\n",
    "2. variational Monte Carlo (VMC), computing expectation values of the optimized trial function\n",
    "3. diffusion Monte Carlo (DMC), a projector method to get closer to the ground state\n",
    "\n",
    "These can all be run through \"recipes\" that are included in the code, or \"from scratch.\""
   ]
  },
  {
   "cell_type": "code",
   "execution_count": 1,
   "metadata": {},
   "outputs": [
    {
     "name": "stdout",
     "output_type": "stream",
     "text": [
      "default ion_cusp: ['H']\n",
      "starting warmup\n",
      "----------vmc done\n",
      "descent en -17.19336831808914 0.002541530637117239  estimated sigma  1.1366070542984994\n",
      "descent |grad| 0.036889938794977865\n"
     ]
    }
   ],
   "source": [
    "# Optimize QMC wave function\n",
    "import pyqmc.recipes\n",
    "pyqmc.recipes.OPTIMIZE(\"h2o_scf.chk\", \"h2o_opt.chk\", nconfig=2000, linemin_kws={\"max_iterations\": 1})"
   ]
  },
  {
   "cell_type": "code",
   "execution_count": 100,
   "metadata": {},
   "outputs": [
    {
     "data": {
      "image/png": "[encoded data removed]",
      "text/plain": [
       "<Figure size 432x288 with 1 Axes>"
      ]
     },
     "metadata": {
      "needs_background": "light"
     },
     "output_type": "display_data"
    }
   ],
   "source": [
    "# Check the optimization\n",
    "import h5py\n",
    "import matplotlib.pyplot as plt\n",
    "import numpy as np\n",
    "\n",
    "with h5py.File(\"h2o_opt.chk\", \"r\") as hdf:\n",
    "    d = {k: np.array(hdf[k]) for k in [\"energy\", \"energy_error\"]}\n",
    "    plt.errorbar(np.arange(len(d[\"energy\"])), d[\"energy\"], d[\"energy_error\"], label=\"h2o_opt\")\n",
    "\n",
    "plt.ylabel(\"energy (Ha)\")\n",
    "plt.xlabel(\"optimization step\")\n",
    "plt.show()"
   ]
  },
  {
   "cell_type": "code",
   "execution_count": 101,
   "metadata": {},
   "outputs": [
    {
     "name": "stdout",
     "output_type": "stream",
     "text": [
      "<KeysViewHDF5 ['configs', 'energy', 'energy_error', 'est_min', 'iteration', 'nconfig', 'pgradient', 'tau', 'wf', 'x', 'yfit']>\n"
     ]
    }
   ],
   "source": [
    "with h5py.File(\"h2o_opt.chk\", \"r\") as hdf:\n",
    "    print(hdf.keys())"
   ]
  },
  {
   "cell_type": "code",
   "execution_count": 2,
   "metadata": {},
   "outputs": [
    {
     "name": "stdout",
     "output_type": "stream",
     "text": [
      "default ion_cusp: ['H']\n",
      "Restarting calculation from step 105\n",
      "-vmc done\n"
     ]
    }
   ],
   "source": [
    "# Run VMC from optimized wave function\n",
    "import pyqmc.recipes\n",
    "\n",
    "accumulators = {\"energy\": True, \"rdm1\": True}\n",
    "# optionally, specify a different set of orbitals (e.g. AOs or only a subset of MOs)\n",
    "# accumulators[\"rdm1_options\"] = {\"orb_coeff\": orbitals}\n",
    "pyqmc.recipes.VMC(\n",
    "    \"h2o_scf.chk\",\n",
    "    \"h2o_vmc.chk\",\n",
    "    start_from=\"h2o_opt.chk\",\n",
    "    accumulators=accumulators,\n",
    "    vmc_kws={\"nblocks\": 1, \"nsteps_per_block\": 10},\n",
    "    nconfig=1000,\n",
    ")"
   ]
  },
  {
   "cell_type": "code",
   "execution_count": 103,
   "metadata": {},
   "outputs": [
    {
     "name": "stdout",
     "output_type": "stream",
     "text": [
      "default ion_cusp: ['H']\n",
      "Restarted calculation\n",
      "energy -17.247894915319048 eref -17.156756973536783 sigma(w) 0.038806513\n"
     ]
    }
   ],
   "source": [
    "# Run DMC from optimized wave function\n",
    "accumulators = {\"energy\": True, \"rdm1\": True}\n",
    "pyqmc.recipes.DMC(\n",
    "    \"h2o_scf.chk\",\n",
    "    \"h2o_dmc.chk\",\n",
    "    start_from=\"h2o_opt.chk\",\n",
    "    accumulators=accumulators,\n",
    "    dmc_kws={\"nsteps\": 5},\n",
    ")"
   ]
  },
  {
   "cell_type": "code",
   "execution_count": 5,
   "metadata": {},
   "outputs": [
    {
     "name": "stdout",
     "output_type": "stream",
     "text": [
      "vmc energy -17.19226100263828 err 0.001025398751400507\n",
      "dmc energy -17.22577626729874 err 0.0021783362352576965\n"
     ]
    },
    {
     "data": {
      "text/plain": [
       "<matplotlib.legend.Legend at 0x7fb4b09172b0>"
      ]
     },
     "execution_count": 5,
     "metadata": {},
     "output_type": "execute_result"
    },
    {
     "data": {
      "image/png": "[encoded data removed]",
      "text/plain": [
       "<Figure size 432x288 with 1 Axes>"
      ]
     },
     "metadata": {
      "needs_background": "light"
     },
     "output_type": "display_data"
    }
   ],
   "source": [
    "# Check VMC and DMC result, compute error bars\n",
    "import matplotlib.pyplot as plt\n",
    "import pyqmc\n",
    "import h5py\n",
    "import numpy as np\n",
    "\n",
    "for method in [\"vmc\", \"dmc\"]:\n",
    "    with h5py.File(\"h2o_{0}.chk\".format(method), \"r\") as hdf:\n",
    "        full_energy_array = np.array(hdf[\"energytotal\"])\n",
    "    warmup = 20\n",
    "    en = pyqmc.reblock.reblock(full_energy_array[warmup:], 20)\n",
    "    avg = en.mean()\n",
    "    err = en.std() / np.sqrt(len(en) - 1)\n",
    "    print(method + \" energy\", avg, \"err\", err)\n",
    "    \n",
    "    plt.plot(full_energy_array, label=method)\n",
    "    plt.axhline(y=avg + err, lw=0.5, ls=\":\", c=\"purple\")\n",
    "    plt.axhline(y=avg - err, lw=0.5, ls=\":\", c=\"purple\")\n",
    "    \n",
    "plt.axvline(x=warmup, lw=0.5, c=\"k\")\n",
    "plt.ylabel(\"energy (Ha)\")\n",
    "plt.xlabel(\"block\")\n",
    "plt.legend()"
   ]
  },
  {
   "cell_type": "code",
   "execution_count": 9,
   "metadata": {},
   "outputs": [
    {
     "name": "stdout",
     "output_type": "stream",
     "text": [
      "         mean   std err  std err err  nblocks  nsteps_per_block method\n",
      "0  -17.225817  0.002042     0.000481       10                22    dmc\n",
      "1  -17.225811  0.002466     0.000551       11                20    dmc\n",
      "2  -17.225720  0.002551     0.000544       12                18    dmc\n",
      "3  -17.225796  0.002504     0.000511       13                17    dmc\n",
      "4  -17.225750  0.002919     0.000572       14                15    dmc\n",
      "5  -17.225768  0.002489     0.000470       15                14    dmc\n",
      "6  -17.225776  0.002178     0.000353       20                11    dmc\n",
      "7  -17.225674  0.001924     0.000218       40                 5    dmc\n",
      "8  -17.225674  0.001707     0.000157       60                 3    dmc\n",
      "9  -17.225322  0.001548     0.000123       80                 2    dmc\n",
      "10 -17.192366  0.000942     0.000222       10                 8    vmc\n",
      "11 -17.192386  0.000842     0.000188       11                 7    vmc\n",
      "12 -17.192372  0.000799     0.000170       12                 7    vmc\n",
      "13 -17.192335  0.000810     0.000165       13                 6    vmc\n",
      "14 -17.192366  0.000658     0.000129       14                 6    vmc\n",
      "15 -17.192361  0.000908     0.000172       15                 5    vmc\n",
      "16 -17.192376  0.000769     0.000125       20                 4    vmc\n",
      "17 -17.192360  0.000937     0.000106       40                 2    vmc\n",
      "18 -17.192131  0.000973     0.000090       60                 1    vmc\n",
      "19 -17.192104  0.000967     0.000077       80                 1    vmc\n"
     ]
    },
    {
     "data": {
      "text/plain": [
       "<seaborn.axisgrid.FacetGrid at 0x7f0f18369310>"
      ]
     },
     "execution_count": 9,
     "metadata": {},
     "output_type": "execute_result"
    },
    {
     "data": {
      "image/png": "[encoded data removed]",
      "text/plain": [
       "<Figure size 432x216 with 2 Axes>"
      ]
     },
     "metadata": {
      "needs_background": "light"
     },
     "output_type": "display_data"
    }
   ],
   "source": [
    "import pyqmc\n",
    "import pandas as pd\n",
    "import h5py\n",
    "import matplotlib.pyplot as plt\n",
    "\n",
    "df = []    \n",
    "for method in [\"dmc\", \"vmc\"]:\n",
    "    with h5py.File(\"h2o_{0}.chk\".format(method), \"r\") as hdf:\n",
    "        full_energy_array = np.array(hdf[\"energytotal\"])\n",
    "    warmup = 20\n",
    "\n",
    "    nblockslist = [10, 11, 12, 13, 14, 15, 20, 40, 60, 80]\n",
    "    d = pyqmc.reblock.reblock_summary(full_energy_array[warmup:], nblockslist)\n",
    "    d[\"method\"] = method\n",
    "    df.append(d)\n",
    "\n",
    "df = pd.concat(df, axis=0, ignore_index=True)\n",
    "df = df.rename(columns={\"standard error\": \"std err\", \"standard error error\": \"std err err\"})\n",
    "print(df)\n",
    "\n",
    "import seaborn as sns\n",
    "g = sns.FacetGrid(data=df, col=\"method\")\n",
    "g.map(plt.errorbar, \"nsteps_per_block\", \"std err\", \"std err err\")"
   ]
  },
  {
   "cell_type": "markdown",
   "metadata": {},
   "source": [
    "## Setting up calculation \"from scratch\"\n",
    "\n",
    "These recipes are just wrappers for creating a few objects and running the desired function. If you want to customize something, you can use these objects directly, or create your own recipe."
   ]
  },
  {
   "cell_type": "code",
   "execution_count": 12,
   "metadata": {},
   "outputs": [],
   "source": [
    "import pyqmc\n",
    "\n",
    "mol, mf = pyqmc.recover_pyscf(\"h2o_scf.chk\")\n",
    "wf, to_opt = pyqmc.default_sj(mol, mf) # Slater-Jastrow wave function\n",
    "configs = pyqmc.initial_guess(mol, nconfig=1000) # walkers\n",
    "pgrad = pyqmc.gradient_generator(mol, wf, to_opt) # accumulator for parameter gradients\n",
    "\n",
    "if False:\n",
    "    pyqmc.line_minimization(wf, configs, pgrad) # optimize wf\n",
    "    accumulators = {\"energy\": pgrad.enacc}\n",
    "    df_vmc, configs = pyqmc.vmc(wf, configs, accumulators=accumulators)\n",
    "    df_dmc, configs, weights = pyqmc.rundmc(wf, configs, accumulators=accumulators)"
   ]
  },
  {
   "cell_type": "markdown",
   "metadata": {},
   "source": [
    "Note that `default_jastrow` automatically enforces a nuclear cusp condition if an ecp is not specified for a particular atom. (but you can override it by setting `ion_cusp` to `True`, `False`, or a list of atom names that have cusp conditions)\n",
    "\n",
    "Also orbital optimization doesn't appear to be working without ecps, so watch out for that."
   ]
  },
  {
   "cell_type": "markdown",
   "metadata": {},
   "source": [
    "## Mixed estimator extrapolation (NOT THAT RELEVANT TO VINCENT WU)\n",
    "\n",
    "DMC projects the trial function onto the ground state, but samples the \"mixed distribution\", the overlap of the trial function and projected function. When averaging operators that do not commute with the Hamiltonian (e.g. density matrices), this leads to a \"mixed estimator error\", which can be corrected by adding the difference between the DMC and VMC values.\n",
    "\n",
    "The mixed estimator extrapolation is straightforward from the VMC and DMC output files."
   ]
  },
  {
   "cell_type": "code",
   "execution_count": 22,
   "metadata": {},
   "outputs": [
    {
     "name": "stdout",
     "output_type": "stream",
     "text": [
      "norm err should be small vmc 1.110308283659344e-05\n",
      "norm err should be small dmc 1.068883790988038e-05\n"
     ]
    }
   ],
   "source": [
    "# Mixed estimator extrapolation of 1RDM\n",
    "import h5py\n",
    "import numpy as np\n",
    "import pyqmc\n",
    "\n",
    "# Load data\n",
    "warmup = 40\n",
    "obdm = {}\n",
    "for method in [\"vmc\", \"dmc\"]:\n",
    "    with h5py.File(f\"h2o_{method}.chk\", \"r\") as hdf:\n",
    "        # Extract data from hdf\n",
    "        value = np.array(hdf[\"rdm1value\"])\n",
    "        norm = np.array(hdf[\"rdm1norm\"])\n",
    "        # Exclude warmup and reblock\n",
    "        value = pyqmc.reblock.reblock(value[warmup:], 20)\n",
    "        norm = pyqmc.reblock.reblock(norm[warmup:], 20)\n",
    "        # Normalize one-body distribution\n",
    "        print(\"norm err should be small\", method, norm.std() / np.sqrt(len(norm) - 1))\n",
    "        obdm[method] = pyqmc.obdm.normalize_obdm(value, norm.mean(axis=0))\n",
    "\n",
    "# Extrapolate\n",
    "extrap = 2 * obdm[\"dmc\"].mean(axis=0) - obdm[\"vmc\"].mean(axis=0)\n",
    "err = {m: obdm[m].std(axis=0) / np.sqrt(len(obdm[m]) - 1) for m in [\"vmc\", \"dmc\"]}\n",
    "extrap_err = np.sqrt(err[\"dmc\"] ** 2 + err[\"vmc\"] ** 2)\n"
   ]
  },
  {
   "cell_type": "code",
   "execution_count": 33,
   "metadata": {},
   "outputs": [
    {
     "data": {
      "image/png": "[encoded data removed]",
      "text/plain": [
       "<Figure size 720x216 with 3 Axes>"
      ]
     },
     "metadata": {
      "needs_background": "light"
     },
     "output_type": "display_data"
    }
   ],
   "source": [
    "# Plot density matrix\n",
    "import matplotlib.pyplot as plt\n",
    "import numpy as np\n",
    "\n",
    "norb = 10\n",
    "rdm1 = extrap[:norb, :norb]\n",
    "rdm1_err = extrap_err[:norb, :norb]\n",
    "\n",
    "fig, axs = plt.subplots(1, 3, figsize=(10, 3))\n",
    "axs[0].imshow(extrap[:10, :10])\n",
    "\n",
    "axs[1].errorbar(np.arange(rdm1.shape[0]), np.diag(rdm1), np.diag(rdm1_err))\n",
    "axs[1].set_xlabel(\"rdm diagonal elements\")\n",
    "\n",
    "triu_inds = np.triu_indices(norb, k=1)\n",
    "axs[2].errorbar(np.arange(len(triu_inds[0])), rdm1[triu_inds], rdm1_err[triu_inds])\n",
    "axs[2].set_xlabel(\"rdm off-diag elements\")\n",
    "\n",
    "plt.tight_layout()"
   ]
  },
  {
   "cell_type": "markdown",
   "metadata": {},
   "source": [
    "## Using PySCF tools\n",
    "\n",
    "We can take advantage of existing PySCF tools for plotting density"
   ]
  },
  {
   "cell_type": "code",
   "execution_count": 50,
   "metadata": {},
   "outputs": [
    {
     "data": {
      "text/plain": [
       "Text(0.5, 1.0, 'H2O density')"
      ]
     },
     "execution_count": 50,
     "metadata": {},
     "output_type": "execute_result"
    },
    {
     "data": {
      "image/png": "[encoded data removed]",
      "text/plain": [
       "<Figure size 360x360 with 2 Axes>"
      ]
     },
     "metadata": {
      "needs_background": "light"
     },
     "output_type": "display_data"
    }
   ],
   "source": [
    "# Use PySCF for plotting density\n",
    "from pyscf.tools import cubegen\n",
    "import pyqmc\n",
    "import numpy as np\n",
    "\n",
    "mol, mf = pyqmc.recover_pyscf(\"h2o_scf.chk\")\n",
    "orbitals = mf.mo_coeff # these are the default RDM orbitals used in the recipes\n",
    "rdm1_ao = np.linalg.multi_dot([orbitals, extrap, orbitals.T])\n",
    "cube = cubegen.density(mol, \"h2o_extrap_den.cube\", rdm1_ao)\n",
    "\n",
    "# Plot slice through z=0\n",
    "import matplotlib.pyplot as plt\n",
    "z0 = int(cube.shape[-1] / 2)\n",
    "plt.figure(figsize=(5,5))\n",
    "im = plt.imshow(cube[:, :, z0])\n",
    "plt.colorbar(im)\n",
    "plt.title(\"H2O density\")"
   ]
  },
  {
   "cell_type": "markdown",
   "metadata": {},
   "source": [
    "## Custom accumulators\n",
    "\n",
    "To calculate quantities that are not already implemented, it's easy to write new accumulator objects."
   ]
  },
  {
   "cell_type": "code",
   "execution_count": 80,
   "metadata": {},
   "outputs": [],
   "source": [
    "# Define the accumulator\n",
    "import numpy as np\n",
    "\n",
    "class NumberDistributionAccumulator:\n",
    "    def __init__(self, is_in_region, max_n=20):\n",
    "        self.max_n = max_n\n",
    "        self.is_in_region = is_in_region\n",
    "\n",
    "    def __call__(self, configs, wf):\n",
    "        in_region = self.is_in_region(configs)\n",
    "        n = np.sum(in_region, axis=1)\n",
    "        nwalkers = configs.configs.shape[0]\n",
    "        dist = np.zeros((nwalkers, self.max_n + 1))\n",
    "        dist[np.arange(len(n)), n] = 1 \n",
    "        return {\"region\": dist}\n",
    "\n",
    "    def avg(self, configs, wf):\n",
    "        return {k: np.mean(v, axis=0) for k, v in self(configs, wf).items()}"
   ]
  },
  {
   "cell_type": "code",
   "execution_count": 81,
   "metadata": {},
   "outputs": [],
   "source": [
    "# Define some counting functions to give to the accumulator\n",
    "import numpy as np\n",
    "\n",
    "def is_near_O(configs):\n",
    "    return configs.configs[:, :, 1] < 0.4526 # y-coord of H in Bohr\n",
    "\n",
    "class IsInSphere:\n",
    "    def __init__(self, center, r):\n",
    "        self.center = np.asarray(center)\n",
    "        self.r = r\n",
    "        \n",
    "    def __call__(self, configs):\n",
    "        d = configs.dist.dist_i(self.center, configs.configs)\n",
    "        return np.linalg.norm(d, axis=-1)[:, :, 0].T < self.r"
   ]
  },
  {
   "cell_type": "code",
   "execution_count": 82,
   "metadata": {},
   "outputs": [
    {
     "name": "stdout",
     "output_type": "stream",
     "text": [
      "default ion_cusp: ['H']\n",
      "--------------------------------------------------------------------------------------------------------------------------------------------------------------------------------------------------------------------------------------------------------------------------------------------------------------------------------------------------------------------------------------------------------------------------------------------------------------------------------------------------------------------------------------------------------------------------------------------------------------------------------------------------------------------------------------------------------------------------------------------------------------------------------------------------------------------------------vmc done\n"
     ]
    }
   ],
   "source": [
    "# Use number distribution accumulator on optimized wf in VMC\n",
    "import pyqmc\n",
    "\n",
    "mol, mf = pyqmc.recover_pyscf(\"h2o_scf.chk\")\n",
    "wf, to_opt = pyqmc.default_sj(mol, mf)\n",
    "pyqmc.read_wf(wf, \"h2o_opt.chk\")\n",
    "\n",
    "acc = {}\n",
    "acc[\"onumber\"] = NumberDistributionAccumulator(is_near_O, max_n=8)\n",
    "Hcoord = mol.atom_coords()[1]\n",
    "r = np.linalg.norm(Hcoord) / 2\n",
    "acc[\"osphere\"] = NumberDistributionAccumulator(IsInSphere((0, 0, 0), r), max_n=8)\n",
    "acc[\"hsphere\"] = NumberDistributionAccumulator(IsInSphere(Hcoord, r), max_n=8)\n",
    "\n",
    "df, configs = pyqmc.vmc(wf, configs, accumulators=acc, nblocks=800, hdf_file=\"h2o_vmc_numberacc.chk\", verbose=True)"
   ]
  },
  {
   "cell_type": "markdown",
   "metadata": {},
   "source": [
    "The function `read_wf` loads the parameter dictionary from the file (e.g. the output of `line_minimization`/`OPTIMIZE`) into the object passed in."
   ]
  },
  {
   "cell_type": "code",
   "execution_count": 86,
   "metadata": {},
   "outputs": [
    {
     "data": {
      "text/plain": [
       "<matplotlib.legend.Legend at 0x7fb5901b0b20>"
      ]
     },
     "execution_count": 86,
     "metadata": {},
     "output_type": "execute_result"
    },
    {
     "data": {
      "image/png": "[encoded data removed]",
      "text/plain": [
       "<Figure size 432x288 with 1 Axes>"
      ]
     },
     "metadata": {
      "needs_background": "light"
     },
     "output_type": "display_data"
    }
   ],
   "source": [
    "# Plot number distributions\n",
    "import matplotlib.pyplot as plt\n",
    "import h5py\n",
    "import pyqmc\n",
    "\n",
    "with h5py.File(\"h2o_vmc_numberacc.chk\", \"r\") as hdf:\n",
    "    d = {k: np.array(v) for k, v in hdf.items()}\n",
    "\n",
    "warmup = 10\n",
    "for label in [\"onumber\", \"osphere\", \"hsphere\"]:\n",
    "    rb = pyqmc.reblock.reblock(d[label+\"region\"][warmup:], 20)\n",
    "    avg = rb.mean(axis=0)\n",
    "    err = rb.std(axis=0) / np.sqrt(len(rb) - 1)\n",
    "    plt.errorbar(np.arange(len(avg)), avg, err, label=label)\n",
    "\n",
    "plt.xlabel(\"Number of electrons\")\n",
    "plt.ylabel(\"Average count\")\n",
    "plt.legend()"
   ]
  },
  {
   "cell_type": "markdown",
   "metadata": {},
   "source": [
    "## Evaluating specific configurations\n",
    "\n",
    "If you're interested in seeing what the wave function or local quantities look like, it's easy to evaluate them on specific configurations."
   ]
  },
  {
   "cell_type": "code",
   "execution_count": 98,
   "metadata": {},
   "outputs": [
    {
     "name": "stdout",
     "output_type": "stream",
     "text": [
      "default ion_cusp: ['H']\n"
     ]
    },
    {
     "data": {
      "image/png": "[encoded data removed]",
      "text/plain": [
       "<Figure size 576x216 with 2 Axes>"
      ]
     },
     "metadata": {
      "needs_background": "light"
     },
     "output_type": "display_data"
    }
   ],
   "source": [
    "import pyqmc\n",
    "import matplotlib.pyplot as plt\n",
    "\n",
    "mol, mf = pyqmc.recover_pyscf(\"h2o_scf.chk\")\n",
    "\n",
    "# Set up configs\n",
    "nconf = 100\n",
    "configs = pyqmc.initial_guess(mol, nconf)\n",
    "configs.configs[:] = configs.configs[0]\n",
    "\n",
    "Hcoord = mol.atom_coords()[1]\n",
    "lineparam = np.linspace(0.95, 1.05, nconf)\n",
    "configs.configs[:, 0, :] = np.outer(lineparam, Hcoord)\n",
    "\n",
    "# Evaluate\n",
    "wf, to_opt = pyqmc.default_sj(mol, mf, optimize_orbitals=True)\n",
    "enacc = pyqmc.EnergyAccumulator(mol)\n",
    "ph, val = wf.recompute(configs)\n",
    "df = enacc(configs, wf)\n",
    "\n",
    "# Plot\n",
    "fig, axs= plt.subplots(1, 2, figsize=(8,3))\n",
    "axs[0].plot(lineparam, val)\n",
    "axs[0].set_ylabel(\"log wf\")\n",
    "axs[0].set_xlabel(\"fraction along OH bond\")\n",
    "axs[1].plot(lineparam, df[\"total\"])\n",
    "axs[1].set_ylabel(\"local energy\")\n",
    "axs[1].set_xlabel(\"fraction along OH bond\")\n",
    "plt.tight_layout()"
   ]
  },
  {
   "cell_type": "markdown",
   "metadata": {},
   "source": [
    "## Excited determinant\n",
    "\n",
    "Excited state properties have been calculated with DMC by using an excited determinant (or determinant expansion) as the trial function to determine the nodal surface. Such a trial function can be easily constructed, whether to use for DMC, or as a starting point for orthogonal optimization."
   ]
  },
  {
   "cell_type": "code",
   "execution_count": 87,
   "metadata": {},
   "outputs": [
    {
     "name": "stdout",
     "output_type": "stream",
     "text": [
      "default ion_cusp: ['H']\n"
     ]
    }
   ],
   "source": [
    "import pyqmc\n",
    "\n",
    "mol, mf = pyqmc.recover_pyscf(\"h2o_scf.chk\")\n",
    "mf.mo_occ[3] = 1 # decrease from 2 to 1\n",
    "mf.mo_occ[4] = 1 # increase from 0 to 1\n",
    "\n",
    "wf, to_opt = pyqmc.default_sj(mol, mf)\n"
   ]
  },
  {
   "cell_type": "markdown",
   "metadata": {},
   "source": [
    "## Multi-determinant wave function\n",
    "\n",
    "For molecules, multi-determinant trial functions can be much better than single determinants. These can be generated from a PySCF CASCI object."
   ]
  },
  {
   "cell_type": "code",
   "execution_count": null,
   "metadata": {},
   "outputs": [],
   "source": [
    "from pyscf import mcscf\n",
    "import pyqmc\n",
    "\n",
    "mol, mf = pyqmc.recover_pyscf(\"h2o_scf.chk\")\n",
    "mc = mcscf.CASCI(mf, ncas=8, nelecas=(4, 4))\n",
    "mc.kernel()\n",
    "\n",
    "wf, to_opt = pyqmc.default_msj(mol, mf, mc) # looks like kwarg optimize_orbitals is not up to date"
   ]
  },
  {
   "cell_type": "markdown",
   "metadata": {},
   "source": [
    "## Periodic systems\n",
    "\n",
    "Periodic calculations work similarly to molecules. In the PySCF calculation, we need to define a k-point grid."
   ]
  },
  {
   "cell_type": "code",
   "execution_count": null,
   "metadata": {},
   "outputs": [],
   "source": [
    "import pyscf\n",
    "import pyqmc\n",
    "import numpy as np\n",
    "\n",
    "\n",
    "def run_si_scf(chkfile=\"si_scf.chk\"):\n",
    "    a = 5.43\n",
    "    cell = gto.Cell(\n",
    "        atom=\"Si 0. 0. 0.; Si {0} {0} {0}\".format(a / 4), \n",
    "        unit=\"angstrom\",\n",
    "        basis=\"ccecp-ccpvtz\",\n",
    "        ecp=\"ccecp\",\n",
    "        a=(np.ones((3, 3)) - np.eye(3)) * a / 2,\n",
    "    )   \n",
    "    cell.exp_to_discard = 0.1 \n",
    "    cell.build()\n",
    "\n",
    "    kpts = cell.make_kpts([8, 8, 8]) \n",
    "    mf = scf.KRKS(cell, kpts=kpts)\n",
    "    mf.chkfile = chkfile\n",
    "    mf.run()"
   ]
  },
  {
   "cell_type": "markdown",
   "metadata": {},
   "source": [
    "In QMC, we usually want to do the calculation on a supercell. Make sure that the SCF calculation included the k points corresponding to the supercell.\n",
    "\n",
    "In this example, the conventional cell contains four of the kpoints contained in `[2, 2, 2]`, and double the conventional cell contains 32 of the kpoints contained in `[4, 4, 4]`. "
   ]
  },
  {
   "cell_type": "code",
   "execution_count": 90,
   "metadata": {},
   "outputs": [
    {
     "name": "stdout",
     "output_type": "stream",
     "text": [
      "supercell matrix\n",
      " [[-2.  2.  2.]\n",
      " [ 2. -2.  2.]\n",
      " [ 2.  2. -2.]]\n"
     ]
    }
   ],
   "source": [
    "conventional_S = np.ones((3, 3)) - 2 * np.eye(3) # conventional cell for FCC\n",
    "S = 2 * conventional_S\n",
    "print(\"supercell matrix\\n\", S)"
   ]
  },
  {
   "cell_type": "markdown",
   "metadata": {},
   "source": [
    "With 256 electrons, the distance matrix requires a lot of memory. The number of configurations can be reduced to compensate."
   ]
  },
  {
   "cell_type": "code",
   "execution_count": null,
   "metadata": {},
   "outputs": [],
   "source": [
    "if False:\n",
    "    pyqmc.recipes.OPTIMIZE(chkfile, \"si_opt.chk\", S=S, nconfig=5)\n",
    "    pyqmc.recipes.VMC(chkfile, \"si_dmc.chk\", start_from=\"si_opt.chk\", S=S, nconfig=5, vmc_kws={\"nblocks\": 100})\n",
    "    pyqmc.recipes.DMC(chkfile, \"si_dmc.chk\", start_from=\"si_opt.chk\", S=S, nconfig=5)"
   ]
  },
  {
   "cell_type": "code",
   "execution_count": null,
   "metadata": {},
   "outputs": [],
   "source": [
    "# without recipes\n",
    "cell, mf = pyqmc.recover_pyscf(\"si_scf.chk\")\n",
    "supercell = pyqmc.get_supercell(cell, S)\n",
    "# supercell is used in place of cell for all the pyqmc functions"
   ]
  },
  {
   "cell_type": "markdown",
   "metadata": {},
   "source": [
    "## Running in parallel\n",
    "\n",
    "Parallelization is handled by a \"client\" that gets passed to the various functions or recipes. Since PyQMC only deals with the client, it can be easily used with different parallelization libraries."
   ]
  },
  {
   "cell_type": "code",
   "execution_count": null,
   "metadata": {},
   "outputs": [],
   "source": [
    "# Using native python library\n",
    "from concurrent.futures import ProcessPoolExecutor\n",
    "import pyqmc\n",
    "\n",
    "# with recipes\n",
    "with ProcessPoolExecutor() as client:\n",
    "    pyqmc.recipes.OPTIMIZE(\"h2o_scf.chk\", \"h2o_opt1.chk\", client=client, npartitions=2)\n",
    "\n",
    "# or calling functions directly\n",
    "mol, mf = pyqmc.recover_pyscf(\"h2o_scf.chk\")\n",
    "wf, to_opt = pyqmc.default_sj(mol, mf)\n",
    "pgrad = pyqmc.gradient_generator(mol, wf, to_opt)\n",
    "pyqmc.line_minimization(wf, configs, pgrad, client=client, npartitions=2, hdf_file=\"h2o_opt1.chk\")"
   ]
  },
  {
   "cell_type": "markdown",
   "metadata": {},
   "source": [
    "### Using Dask\n",
    "\n",
    "Dask uses \"cluster\" objects to manage the workers. The simplest for running on one node is LocalCluster\n"
   ]
  },
  {
   "cell_type": "code",
   "execution_count": null,
   "metadata": {},
   "outputs": [],
   "source": [
    "# Using Dask LocalCluster\n",
    "from dask.distributed import Client, LocalCluster\n",
    "\n",
    "cluster = LocalCluster(n_workers=2)\n",
    "\n",
    "# For all dask clusters, running PyQMC is the same\n",
    "with Client(cluster) as client:\n",
    "    pyqmc.recipes.OPTIMIZE(\"h2o_scf.chk\", \"h2o_opt2.chk\", client=client, npartitions=2)\n",
    "cluster.close()"
   ]
  },
  {
   "cell_type": "markdown",
   "metadata": {},
   "source": [
    "the LocalCluster from dask.distributed can be replaced by a different cluster object e.g. PBSCluster, SLURMCluster from dask_jobqueue, or a cluster for cloud computing, e.g. KubeCluster"
   ]
  },
  {
   "cell_type": "code",
   "execution_count": null,
   "metadata": {},
   "outputs": [],
   "source": [
    "# Dask Kubernetes - taken from https://kubernetes.dask.org/en/latest/kubecluster.html#kubecluster\n",
    "from dask_kubernetes import KubeCluster\n",
    "\n",
    "cluster = KubeCluster.from_yaml('worker-spec.yml')\n",
    "cluster.scale(10)  # specify number of workers explicitly\n",
    "cluster.adapt(minimum=1, maximum=100)  # or dynamically scale based on current workload\n",
    "\n",
    "# For all dask clusters, running PyQMC is the same\n",
    "with Client(cluster) as client:\n",
    "    pyqmc.recipes.OPTIMIZE(\"h2o_scf.chk\", \"h2o_opt3.chk\", client=client, npartitions=2)\n",
    "cluster.close()"
   ]
  },
  {
   "cell_type": "markdown",
   "metadata": {},
   "source": [
    "### Using MPI for Python\n",
    "\n",
    "MPI for Python is what it says. It has a futures object based on concurrent.futures that uses MPI, which is an alternative to Dask's MPI library for running on multiple nodes.\n",
    "\n",
    "\"The recommended way to execute the script is using the mpiexec command specifying one MPI process and (optional but recommended) the desired MPI universe size.\n",
    "\n",
    "`mpiexec -n 1 -usize 17 python script.py`\n",
    "\n",
    "Alternatively... all the MPI process are started at once. The user script is run under command line control of mpi4py.futures passing the -m flag to the python executable\n",
    "\n",
    "`mpiexec -n 17 python -m mpi4py.futures script.py`\n",
    "\n",
    "\"- https://mpi4py.readthedocs.io/en/stable/mpi4py.futures.html\n",
    "\n",
    "\n",
    "I have not tested it. But I imagine it works like this."
   ]
  },
  {
   "cell_type": "code",
   "execution_count": null,
   "metadata": {},
   "outputs": [],
   "source": [
    "# Taken from example at https://mpi4py.readthedocs.io/en/stable/mpi4py.futures.html\n",
    "from mpi4py.futures import MPIPoolExecutor\n",
    "\n",
    "with MPIPoolExecutor() as client:\n",
    "    pyqmc.recipes.OPTIMIZE(\"h2o_scf.chk\", \"h2o_opt1.chk\", client=client, npartitions=2)"
   ]
  }
 ],
 "metadata": {
  "kernelspec": {
   "display_name": "Python 3",
   "language": "python",
   "name": "python3"
  },
  "language_info": {
   "codemirror_mode": {
    "name": "ipython",
    "version": 3
   },
   "file_extension": ".py",
   "mimetype": "text/x-python",
   "name": "python",
   "nbconvert_exporter": "python",
   "pygments_lexer": "ipython3",
   "version": "3.8.3"
  }
 },
 "nbformat": 4,
 "nbformat_minor": 4
}
